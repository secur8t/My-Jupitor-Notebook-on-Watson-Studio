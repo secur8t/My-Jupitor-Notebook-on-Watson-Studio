{
  "metadata": {
    "language_info": {
      "codemirror_mode": {
        "name": "python",
        "version": 3
      },
      "file_extension": ".py",
      "mimetype": "text/x-python",
      "name": "python",
      "nbconvert_exporter": "python",
      "pygments_lexer": "ipython3",
      "version": "3.8"
    },
    "kernelspec": {
      "name": "python",
      "display_name": "Pyolite",
      "language": "python"
    }
  },
  "nbformat_minor": 4,
  "nbformat": 4,
  "cells": [
    {
      "cell_type": "markdown",
      "source": "# My Jupyter Notebook on IBM Watson Studio",
      "metadata": {}
    },
    {
      "cell_type": "markdown",
      "source": "**Ramon Edwards**",
      "metadata": {}
    },
    {
      "cell_type": "markdown",
      "source": "QSSE Systems Specialist",
      "metadata": {}
    },
    {
      "cell_type": "markdown",
      "source": "*I am interested in Data Science to effectively add more value to data management  which is part of my job portfolio.*",
      "metadata": {}
    },
    {
      "cell_type": "markdown",
      "source": "### The below code should print 'Hello World'###",
      "metadata": {}
    },
    {
      "cell_type": "code",
      "source": "print(\"Hello World!\")",
      "metadata": {
        "trusted": true
      },
      "execution_count": 1,
      "outputs": [
        {
          "name": "stdout",
          "text": "Hello World!\n",
          "output_type": "stream"
        }
      ]
    },
    {
      "cell_type": "markdown",
      "source": "- Table of Content\n    - Introduction\n    - Acknowledgement\n    - Unit 1",
      "metadata": {
        "tags": []
      }
    },
    {
      "cell_type": "markdown",
      "source": "Page Number:\n\n1. 1\n2. 2\n3. 3",
      "metadata": {}
    },
    {
      "cell_type": "markdown",
      "source": "Click [Here](https://youtu.be/q9CjuRpPA9Y)",
      "metadata": {}
    },
    {
      "cell_type": "code",
      "source": "",
      "metadata": {},
      "execution_count": null,
      "outputs": []
    }
  ]
}